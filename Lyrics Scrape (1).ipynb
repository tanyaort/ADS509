{
 "cells": [
  {
   "cell_type": "markdown",
   "id": "0f47cd96-d399-4c38-8721-fb16af1e9db3",
   "metadata": {},
   "source": [
    "## Tanya Ortega \n",
    "\n",
    "## MADS 509\n",
    "\n",
    "## Sept 8, 2025"
   ]
  },
  {
   "cell_type": "markdown",
   "id": "95952cac",
   "metadata": {},
   "source": [
    "# ADS 509 Module 1: APIs and Web Scraping\n",
    "\n",
    "This notebook has two parts. In the first part, you will scrape lyrics from AZLyrics.com. In the second part, you'll run code that verifies the completeness of your data pull. \n",
    "\n",
    "For this assignment you have chosen two musical artists who have at least 20 songs with lyrics on AZLyrics.com. We start with pulling some information and analyzing them.\n"
   ]
  },
  {
   "cell_type": "markdown",
   "id": "069b7ae8",
   "metadata": {},
   "source": [
    "## General Assignment Instructions\n",
    "\n",
    "These instructions are included in every assignment, to remind you of the coding standards for the class. Feel free to delete this cell after reading it. \n",
    "\n",
    "One sign of mature code is conforming to a style guide. We recommend the [Google Python Style Guide](https://google.github.io/styleguide/pyguide.html). If you use a different style guide, please include a cell with a link. \n",
    "\n",
    "Your code should be relatively easy-to-read, sensibly commented, and clean. Writing code is a messy process, so please be sure to edit your final submission. Remove any cells that are not needed or parts of cells that contain unnecessary code. Remove inessential `import` statements and make sure that all such statements are moved into the designated cell. \n",
    "\n",
    "Make use of non-code cells for written commentary. These cells should be grammatical and clearly written. In some of these cells you will have questions to answer. The questions will be marked by a \"Q:\" and will have a corresponding \"A:\" spot for you. *Make sure to answer every question marked with a `Q:` for full credit.* \n"
   ]
  },
  {
   "cell_type": "markdown",
   "id": "91c8969e",
   "metadata": {},
   "source": [
    "# Importing Libraries"
   ]
  },
  {
   "cell_type": "code",
   "execution_count": 2,
   "id": "185076b0",
   "metadata": {},
   "outputs": [],
   "source": [
    "import os\n",
    "import datetime\n",
    "import re\n",
    "\n",
    "# for the lyrics scrape section\n",
    "import requests\n",
    "import time\n",
    "from bs4 import BeautifulSoup\n",
    "from collections import defaultdict, Counter\n",
    "import random"
   ]
  },
  {
   "cell_type": "code",
   "execution_count": 2,
   "id": "a47e2d5f",
   "metadata": {},
   "outputs": [],
   "source": [
    "# Use this cell for any import statements you add"
   ]
  },
  {
   "cell_type": "markdown",
   "id": "45c13af3",
   "metadata": {},
   "source": [
    "---\n",
    "\n",
    "# Lyrics Scrape\n",
    "\n",
    "This section asks you to pull data by scraping www.AZLyrics.com. In the notebooks where you do that work you are asked to store the data in specific ways. "
   ]
  },
  {
   "cell_type": "code",
   "execution_count": 3,
   "id": "5bd7df77",
   "metadata": {},
   "outputs": [],
   "source": [
    "artists = {'robyn':\"https://www.azlyrics.com/r/robyn.html\",\n",
    "           'cher':\"https://www.azlyrics.com/c/cher.html\"} \n",
    "# we'll use this dictionary to hold both the artist name and the link on AZlyrics"
   ]
  },
  {
   "cell_type": "code",
   "execution_count": 4,
   "id": "f05513e1-4a5d-45be-ab36-3af04302c548",
   "metadata": {},
   "outputs": [
    {
     "name": "stdout",
     "output_type": "stream",
     "text": [
      "Status: 200\n",
      "---- robots.txt (first 2000 chars) ----\n",
      "User-agent: *\n",
      "Disallow: /lyricsdb/\n",
      "Disallow: /song/\n",
      "Disallow: /search/\n",
      "Disallow: /suggest/\n",
      "Allow: /\n",
      "\n",
      "User-agent: 008\n",
      "Disallow: /\n",
      "\n",
      "\n",
      "Disallow rules: ['/lyricsdb/', '/song/', '/search/', '/suggest/', '/']\n"
     ]
    }
   ],
   "source": [
    "\n",
    "import requests, re\n",
    "\n",
    "robots_url = \"https://www.azlyrics.com/robots.txt\"\n",
    "resp = requests.get(robots_url, timeout=20)\n",
    "print(\"Status:\", resp.status_code)\n",
    "print(\"---- robots.txt (first 2000 chars) ----\")\n",
    "print(resp.text[:2000])\n",
    "\n",
    "# Quick read helper: list Disallow rules\n",
    "disallows = re.findall(r'(?im)^\\s*Disallow:\\s*(\\S+)', resp.text)\n",
    "print(\"\\nDisallow rules:\", disallows)"
   ]
  },
  {
   "cell_type": "markdown",
   "id": "c236c99b",
   "metadata": {},
   "source": [
    "## A Note on Rate Limiting\n",
    "\n",
    "The lyrics site, www.azlyrics.com, does not have an explicit maximum on number of requests in any one time, but in our testing it appears that too many requests in too short a time will cause the site to stop returning lyrics pages. (Entertainingly, the page that gets returned seems to only have the song title to [a Tom Jones song](https://www.azlyrics.com/lyrics/tomjones/itsnotunusual.html).) \n",
    "\n",
    "Whenever you call `requests.get` to retrieve a page, put a `time.sleep(5 + 10*random.random())` on the next line. This will help you not to get blocked. If you _do_ get blocked, which you can identify if the returned pages are not correct, just request a lyrics page through your browser. You'll be asked to perform a CAPTCHA and then your requests should start working again. \n",
    "\n",
    "## Part 1: Finding Links to Songs Lyrics\n",
    "\n",
    "That general artist page has a list of all songs for that artist with links to the individual song pages. \n",
    "\n",
    "Q: Take a look at the `robots.txt` page on www.azlyrics.com. (You can read more about these pages [here](https://developers.google.com/search/docs/advanced/robots/intro).) Is the scraping we are about to do allowed or disallowed by this page? How do you know? \n",
    "\n",
    "A:\n",
    "The robots.txt file blocks /lyricsdb/, /song/, /search/, and /suggest/, but it doesn’t block /lyrics/ where the songs are. That means scraping the lyrics pages is allowed."
   ]
  },
  {
   "cell_type": "code",
   "execution_count": 5,
   "id": "ac9d31ec",
   "metadata": {},
   "outputs": [],
   "source": [
    "# Let's set up a dictionary of lists to hold our links\n",
    "lyrics_pages = defaultdict(list)\n",
    "\n",
    "for artist, artist_page in artists.items() :\n",
    "    # request the page and sleep\n",
    "    r = requests.get(artist_page)\n",
    "    time.sleep(5 + 10*random.random())\n",
    "\n",
    "    # now extract the links to lyrics pages from this page\n",
    "    # store the links `lyrics_pages` where the key is the artist and the\n",
    "    # value is a list of links. "
   ]
  },
  {
   "cell_type": "code",
   "execution_count": 6,
   "id": "eb7e05e5-8a22-4bf9-bbb0-8ce74ae42ed1",
   "metadata": {},
   "outputs": [
    {
     "name": "stdout",
     "output_type": "stream",
     "text": [
      "robyn: found 104 songs\n",
      "  sample: ['https://www.azlyrics.com/lyrics/robyn/bumpyride.html', 'https://www.azlyrics.com/lyrics/robyn/inmyheart.html', 'https://www.azlyrics.com/lyrics/robyn/youvegotthatsomething.html', 'https://www.azlyrics.com/lyrics/robyn/doyouknowwhatittakes.html', 'https://www.azlyrics.com/lyrics/robyn/thelasttime.html']\n",
      "cher: found 334 songs\n",
      "  sample: ['https://www.azlyrics.com/lyrics/cher/allireallywanttodo.html', 'https://www.azlyrics.com/lyrics/cher/igotosleep.html', 'https://www.azlyrics.com/lyrics/cher/needlesandpins.html', 'https://www.azlyrics.com/lyrics/cher/dontthinktwice.html', 'https://www.azlyrics.com/lyrics/cher/shethinksistillcare.html']\n"
     ]
    }
   ],
   "source": [
    "from urllib.parse import urljoin\n",
    "\n",
    "lyrics_pages = defaultdict(list)\n",
    "\n",
    "for artist, artist_page in artists.items():\n",
    "    # request the page and sleep\n",
    "    r = requests.get(artist_page, headers={\n",
    "        \"User-Agent\": \"Mozilla/5.0 (Windows NT 10.0; Win64; x64) \"\n",
    "                      \"AppleWebKit/537.36 (KHTML, like Gecko) \"\n",
    "                      \"Chrome/120.0.0.0 Safari/537.36\"\n",
    "    })\n",
    "    time.sleep(5 + 10*random.random())\n",
    "\n",
    "    soup = BeautifulSoup(r.text, \"html.parser\")\n",
    "\n",
    "    # grab links inside the album/song list container\n",
    "    found = []\n",
    "    container = soup.select_one(\"#listAlbum\")\n",
    "    if container:\n",
    "        for a in container.select(\"a[href]\"):\n",
    "            href = a.get(\"href\", \"\")\n",
    "            if \"lyrics/\" in href and href.endswith(\".html\"):\n",
    "                full_url = urljoin(artist_page, href)  # make absolute\n",
    "                found.append(full_url)\n",
    "\n",
    "    # de-dupe while keeping order\n",
    "    seen = set()\n",
    "    for u in found:\n",
    "        if u not in seen:\n",
    "            seen.add(u)\n",
    "            lyrics_pages[artist].append(u)\n",
    "\n",
    "    print(f\"{artist}: found {len(lyrics_pages[artist])} songs\")\n",
    "    print(\"  sample:\", lyrics_pages[artist][:5])"
   ]
  },
  {
   "cell_type": "code",
   "execution_count": 7,
   "id": "ae4cda68",
   "metadata": {},
   "outputs": [],
   "source": [
    "for artist, lp in lyrics_pages.items() :\n",
    "    assert(len(set(lp)) > 20)"
   ]
  },
  {
   "cell_type": "code",
   "execution_count": 8,
   "id": "edca10d6",
   "metadata": {},
   "outputs": [
    {
     "name": "stdout",
     "output_type": "stream",
     "text": [
      "For robyn we have 104.\n",
      "The full pull will take for this artist will take 0.29 hours.\n",
      "For cher we have 334.\n",
      "The full pull will take for this artist will take 0.93 hours.\n"
     ]
    }
   ],
   "source": [
    "# Let's see how long it's going to take to pull these lyrics \n",
    "# if we're waiting `5 + 10*random.random()` seconds \n",
    "for artist, links in lyrics_pages.items() : \n",
    "    print(f\"For {artist} we have {len(links)}.\")\n",
    "    print(f\"The full pull will take for this artist will take {round(len(links)*10/3600,2)} hours.\")"
   ]
  },
  {
   "cell_type": "markdown",
   "id": "011be6c6",
   "metadata": {},
   "source": [
    "## Part 2: Pulling Lyrics\n",
    "\n",
    "Now that we have the links to our lyrics pages, let's go scrape them! Here are the steps for this part. \n",
    "\n",
    "1. Create an empty folder in our repo called \"lyrics\". \n",
    "1. Iterate over the artists in `lyrics_pages`. \n",
    "1. Create a subfolder in lyrics with the artist's name. For instance, if the artist was Cher you'd have `lyrics/cher/` in your repo.\n",
    "1. Iterate over the pages. \n",
    "1. Request the page and extract the lyrics from the returned HTML file using BeautifulSoup.\n",
    "1. Use the function below, `generate_filename_from_url`, to create a filename based on the lyrics page, then write the lyrics to a text file with that name. \n"
   ]
  },
  {
   "cell_type": "code",
   "execution_count": 12,
   "id": "67693711",
   "metadata": {},
   "outputs": [],
   "source": [
    "def generate_filename_from_link(link) :\n",
    "    \n",
    "    if not link :\n",
    "        return None\n",
    "    \n",
    "    # drop the http or https and the html\n",
    "    name = link.replace(\"https\",\"\").replace(\"http\",\"\")\n",
    "    name = link.replace(\".html\",\"\")\n",
    "\n",
    "    name = name.replace(\"/lyrics/\",\"\")\n",
    "    \n",
    "    # Replace useless chareacters with UNDERSCORE\n",
    "    name = name.replace(\"://\",\"\").replace(\".\",\"_\").replace(\"/\",\"_\")\n",
    "    \n",
    "    # tack on .txt\n",
    "    name = name + \".txt\"\n",
    "    \n",
    "    return(name)"
   ]
  },
  {
   "cell_type": "code",
   "execution_count": 18,
   "id": "1d992077-fe34-462e-b24a-7caec552e875",
   "metadata": {},
   "outputs": [
    {
     "name": "stdout",
     "output_type": "stream",
     "text": [
      "robyn: saved 20 songs (target = 20)\n",
      "cher: saved 20 songs (target = 20)\n",
      "Total pages saved: 40 (should be 40)\n"
     ]
    }
   ],
   "source": [
    "# ---- Save EXACTLY 20 songs per artist (Robyn & Cher) ----\n",
    "import os, shutil, time, random, requests\n",
    "from bs4 import BeautifulSoup\n",
    "\n",
    "# 0) fresh output folder\n",
    "if os.path.isdir(\"lyrics\"):\n",
    "    shutil.rmtree(\"lyrics\")\n",
    "os.mkdir(\"lyrics\")\n",
    "\n",
    "HEADERS = {\n",
    "    \"User-Agent\": \"Mozilla/5.0 (Windows NT 10.0; Win64; x64) AppleWebKit/537.36 (KHTML, like Gecko) Chrome/120.0.0.0 Safari/537.36\",\n",
    "    \"Accept\": \"text/html,application/xhtml+xml,application/xml;q=0.9,*/*;q=0.8\",\n",
    "    \"Accept-Language\": \"en-US,en;q=0.9\",\n",
    "    \"Referer\": \"https://www.azlyrics.com/\"\n",
    "}\n",
    "\n",
    "total_saved = 0\n",
    "for artist, all_links in lyrics_pages.items():\n",
    "    # 1) pick 20 links\n",
    "    if len(all_links) < 20:\n",
    "        raise AssertionError(f\"{artist}: only {len(all_links)} links available (<20).\")\n",
    "    # Use the first 20; for a random 20 use: random.sample(all_links, 20)\n",
    "    links = all_links[:20]\n",
    "\n",
    "    # 2) artist subfolder\n",
    "    outdir = os.path.join(\"lyrics\", artist)\n",
    "    os.makedirs(outdir, exist_ok=True)\n",
    "\n",
    "    # 3) fetch & save\n",
    "    saved = 0\n",
    "    for link in links:\n",
    "        try:\n",
    "            r = requests.get(link, headers=HEADERS, timeout=30)\n",
    "            time.sleep(5 + 10*random.random())\n",
    "            if r.status_code != 200:\n",
    "                continue\n",
    "\n",
    "            soup = BeautifulSoup(r.text, \"html.parser\")\n",
    "\n",
    "            # title (best-effort)\n",
    "            title = \"\"\n",
    "            tb = soup.find(\"div\", class_=\"col-xs-12 col-lg-8 text-center\")\n",
    "            if tb:\n",
    "                b = tb.find(\"b\")\n",
    "                if b:\n",
    "                    title = b.get_text(strip=True)\n",
    "\n",
    "            # lyrics: first div with no id/class and enough text\n",
    "            lyr_div = None\n",
    "            for d in soup.find_all(\"div\"):\n",
    "                if not d.get(\"id\") and not d.get(\"class\"):\n",
    "                    t = d.get_text(\"\\n\", strip=True)\n",
    "                    if len(t) > 200:\n",
    "                        lyr_div = d\n",
    "                        break\n",
    "            if not lyr_div:\n",
    "                continue\n",
    "\n",
    "            fname = generate_filename_from_link(link)  # uses your prof's helper\n",
    "            with open(os.path.join(outdir, fname), \"w\", encoding=\"utf-8\") as f:\n",
    "                f.write((title or \"\") + \"\\n\\n\")\n",
    "                f.write(lyr_div.get_text(\"\\n\", strip=True))\n",
    "\n",
    "            saved += 1\n",
    "            total_saved += 1\n",
    "            if saved == 20:  # stop at exactly 20\n",
    "                break\n",
    "        except Exception as e:\n",
    "            print(f\"Skip {link} -> {e}\")\n",
    "\n",
    "    print(f\"{artist}: saved {saved} songs (target = 20)\")\n",
    "    assert saved == 20, f\"{artist}: saved {saved}, expected 20.\"\n",
    "\n",
    "print(f\"Total pages saved: {total_saved} (should be 40)\")"
   ]
  },
  {
   "cell_type": "code",
   "execution_count": 19,
   "id": "36c394f1",
   "metadata": {},
   "outputs": [
    {
     "name": "stdout",
     "output_type": "stream",
     "text": [
      "Total run time was 1.47 hours.\n"
     ]
    }
   ],
   "source": [
    "print(f\"Total run time was {round((time.time() - start)/3600,2)} hours.\")"
   ]
  },
  {
   "cell_type": "markdown",
   "id": "054cf14b",
   "metadata": {},
   "source": [
    "---\n",
    "\n",
    "# Evaluation\n",
    "\n",
    "This assignment asks you to pull data by scraping www.AZLyrics.com.  After you have finished the above sections , run all the cells in this notebook. Print this to PDF and submit it, per the instructions."
   ]
  },
  {
   "cell_type": "code",
   "execution_count": 20,
   "id": "217c2b0a",
   "metadata": {},
   "outputs": [],
   "source": [
    "# Simple word extractor from Peter Norvig: https://norvig.com/spell-correct.html\n",
    "def words(text): \n",
    "    return re.findall(r'\\w+', text.lower())"
   ]
  },
  {
   "cell_type": "markdown",
   "id": "37778a1c",
   "metadata": {},
   "source": [
    "## Checking Lyrics \n",
    "\n",
    "The output from your lyrics scrape should be stored in files located in this path from the directory:\n",
    "`/lyrics/[Artist Name]/[filename from URL]`. This code summarizes the information at a high level to help the instructor evaluate your work. "
   ]
  },
  {
   "cell_type": "code",
   "execution_count": 21,
   "id": "bccac29c",
   "metadata": {},
   "outputs": [
    {
     "name": "stdout",
     "output_type": "stream",
     "text": [
      "For cher we have 20 files.\n",
      "For cher we have roughly 3837 words, 732 are unique.\n",
      "For robyn we have 20 files.\n",
      "For robyn we have roughly 4665 words, 673 are unique.\n"
     ]
    }
   ],
   "source": [
    "artist_folders = os.listdir(\"lyrics/\")\n",
    "artist_folders = [f for f in artist_folders if os.path.isdir(\"lyrics/\" + f)]\n",
    "\n",
    "for artist in artist_folders : \n",
    "    artist_files = os.listdir(\"lyrics/\" + artist)\n",
    "    artist_files = [f for f in artist_files if 'txt' in f or 'csv' in f or 'tsv' in f]\n",
    "\n",
    "    print(f\"For {artist} we have {len(artist_files)} files.\")\n",
    "\n",
    "    artist_words = []\n",
    "\n",
    "    for f_name in artist_files : \n",
    "        with open(\"lyrics/\" + artist + \"/\" + f_name) as infile : \n",
    "            artist_words.extend(words(infile.read()))\n",
    "\n",
    "            \n",
    "    print(f\"For {artist} we have roughly {len(artist_words)} words, {len(set(artist_words))} are unique.\")"
   ]
  }
 ],
 "metadata": {
  "kernelspec": {
   "display_name": "Python 3 (ipykernel)",
   "language": "python",
   "name": "python3"
  },
  "language_info": {
   "codemirror_mode": {
    "name": "ipython",
    "version": 3
   },
   "file_extension": ".py",
   "mimetype": "text/x-python",
   "name": "python",
   "nbconvert_exporter": "python",
   "pygments_lexer": "ipython3",
   "version": "3.13.7"
  }
 },
 "nbformat": 4,
 "nbformat_minor": 5
}
